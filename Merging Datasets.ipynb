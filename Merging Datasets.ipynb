{
 "cells": [
  {
   "cell_type": "code",
   "execution_count": 7,
   "id": "2fc6289d-1104-4b78-b63e-7be1efa17a62",
   "metadata": {},
   "outputs": [],
   "source": [
    "import numpy as np\n",
    "import pandas as pd\n",
    "import pyarrow\n",
    "import random\n",
    "\n",
    "pd.set_option('display.max_columns', 300)\n",
    "pd.set_option('display.max_rows', 500)"
   ]
  },
  {
   "cell_type": "code",
   "execution_count": 8,
   "id": "983a62ca-8eef-401a-8319-30ec44170b6b",
   "metadata": {},
   "outputs": [],
   "source": [
    "bookings_2_0_file='./Datasets/all_bookings2.0.csv'\n",
    "ratings_2_0_file='./Datasets/all_ratings2.0.csv'\n",
    "bookings_2=pd.read_csv(bookings_2_0_file)\n",
    "ratings_2=pd.read_csv(ratings_2_0_file)"
   ]
  },
  {
   "cell_type": "code",
   "execution_count": 3,
   "id": "5d0f30d1-ab60-4279-a9b3-7e0ef7670012",
   "metadata": {
    "scrolled": true
   },
   "outputs": [],
   "source": [
    "#Merge by booking_id\n",
    "'''\n",
    "Because we have bookings that don't belong to the same client that provides us with ratings, \n",
    "we are going to work with a copy of the bookings that have only those bookings that may have\n",
    "an associated rating.\n",
    "'''\n",
    "#Keep only bookings that start with 'T'\n",
    "filter=(bookings_2['booking_id'].str.startswith('T'))\n",
    "bookings_2 = bookings_2[filter]\n",
    "\n",
    "#Remove bookings that have som custom IDs that are longer than expected\n",
    "filter=bookings_2['booking_id'].str.len()==10\n",
    "bookings_2 = bookings_2[~filter]\n",
    "\n",
    "#print(bookings_2['booking_id'].str.len().unique())\n",
    "\n",
    "filter=(bookings_2['supplier'].isna())&(bookings_2['status']!='cancelado')\n",
    "#print(sum(filter))#2145\n",
    "bookings_2=bookings_2[~filter] \n",
    "\n",
    "#Find and remove duplicates. Perfect only 13.\n",
    "test=bookings_2.groupby(['booking_id']).size().reset_index(name='count')\n",
    "L=test[test['count'].astype(int)>=2]['booking_id'].tolist()\n",
    "#print(L)\n",
    "#print(len(L))\n",
    "#print(bookings_2.shape)#64136\n",
    "bookings_2=bookings_2.drop_duplicates(subset='booking_id', keep=\"last\", inplace=False)\n",
    "#print(bookings_2.shape)#64123\n",
    "\n",
    "\n"
   ]
  },
  {
   "cell_type": "code",
   "execution_count": 4,
   "id": "c06be4c5-26b9-4095-afcf-b9d9ea526594",
   "metadata": {},
   "outputs": [],
   "source": [
    "#Add a 'T' to the booking_id in ratings_2\n",
    "#ratings_2['booking_id']=\n",
    "ratings_2['booking_id']='T'+ratings_2['booking_id'].astype(str)"
   ]
  },
  {
   "cell_type": "code",
   "execution_count": 5,
   "id": "9174e7ae-418b-4208-9617-53c103f4d929",
   "metadata": {},
   "outputs": [
    {
     "name": "stdout",
     "output_type": "stream",
     "text": [
      "(20421, 11)\n",
      "(20123, 32)\n"
     ]
    },
    {
     "data": {
      "text/plain": [
       "(298, 11)"
      ]
     },
     "execution_count": 5,
     "metadata": {},
     "output_type": "execute_result"
    }
   ],
   "source": [
    "#Merge booking info with rating info\n",
    "#Short 'rb' for rated bookings. For easy of typing.\n",
    "rb=bookings_2.merge(ratings_2, how='inner', on='booking_id', suffixes=('_booking', '_rating'), copy=None, indicator=False, validate=None)\n",
    "print(ratings_2.shape) #20421\n",
    "print(rb.shape) #20123\n",
    "\n",
    "L=rb['booking_id'].tolist()\n",
    "ratings_2[~ratings_2['booking_id'].isin(L)].shape\n",
    "# Conclusion\n",
    "# There are about 298 bookings that have a rating but we either don't have \n",
    "# the pertaining booking on our records or we probably filtered it out in the previous\n",
    "# steps because they did not have a supplier assigned.\n",
    "# We reviewed a few cases randomly and they are system errors such as:\n",
    "# - booking email never arrived, therefore we did not have the booking and \n",
    "# was never created in our system, however the passenger could not know about \n",
    "# this and because his booking did not arrive on time he/she posted an angry review.\n",
    "# It is OK that they stay out of the analysis.\n",
    "\n",
    "\n"
   ]
  },
  {
   "cell_type": "code",
   "execution_count": 6,
   "id": "e835e6a5",
   "metadata": {},
   "outputs": [
    {
     "name": "stdout",
     "output_type": "stream",
     "text": [
      "Saved!\n"
     ]
    }
   ],
   "source": [
    "#After all the changes, we proceed to save the changes in a file.\n",
    "import os\n",
    "outname = 'rated_bookings.csv'\n",
    "outdir = './Datasets'\n",
    "if not os.path.exists(outdir):\n",
    "    os.mkdir(outdir)\n",
    "fullname = os.path.join(outdir, outname)    \n",
    "\n",
    "rb.to_csv(fullname, header=True)\n",
    "print(\"Saved!\")"
   ]
  }
 ],
 "metadata": {
  "kernelspec": {
   "display_name": "Python 3 (ipykernel)",
   "language": "python",
   "name": "python3"
  },
  "language_info": {
   "codemirror_mode": {
    "name": "ipython",
    "version": 3
   },
   "file_extension": ".py",
   "mimetype": "text/x-python",
   "name": "python",
   "nbconvert_exporter": "python",
   "pygments_lexer": "ipython3",
   "version": "3.11.7"
  }
 },
 "nbformat": 4,
 "nbformat_minor": 5
}

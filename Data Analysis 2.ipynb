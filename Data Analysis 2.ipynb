{
 "cells": [
  {
   "cell_type": "code",
   "execution_count": 2,
   "id": "a77bc89d-1c26-471b-8921-4cb6b6d9f17e",
   "metadata": {},
   "outputs": [],
   "source": [
    "import numpy as np\n",
    "import pandas as pd\n",
    "import pyarrow\n",
    "import seaborn as sns\n",
    "import matplotlib.pyplot as plt\n",
    "\n",
    "pd.set_option('display.max_columns', 300)\n",
    "pd.set_option('display.max_rows',500)"
   ]
  },
  {
   "cell_type": "code",
   "execution_count": 34,
   "id": "6f39fd41",
   "metadata": {},
   "outputs": [],
   "source": [
    "#Load the data\n",
    "rated_bookings_file = './Datasets/rated_bookings_with_location.csv'\n",
    "rb=pd.read_csv(rated_bookings_file)\n",
    "\n",
    "#Convert to Datetimes\n",
    "rb['pickup_date'] = pd.to_datetime(rb['pickup_date'])\n",
    "rb['last_update_date'] = pd.to_datetime(rb['last_update_date'])\n",
    "rb['booking_date'] = pd.to_datetime(rb['booking_date'])\n",
    "rb['rating_date'] = pd.to_datetime(rb['rating_date'])\n",
    "\n",
    "#Load the bookings\n",
    "bookings_file = './Datasets/all_bookings2.0.csv'\n",
    "book=pd.read_csv(bookings_file)\n"
   ]
  },
  {
   "cell_type": "code",
   "execution_count": 35,
   "id": "d4c08e41",
   "metadata": {},
   "outputs": [
    {
     "data": {
      "text/plain": [
       "Index(['status', 'supplier', 'booking_id', 'roundtrip_id', 'name',\n",
       "       'pickup_date', 'pickup_time', 'number_of_passenger', 'vehicle_type',\n",
       "       'route_type', 'route', 'total_price', 'total_comission', 'total_driver',\n",
       "       'special_notes', 'city_of_departure', 'address', 'hotel',\n",
       "       'flight_number', 'last_update_date', 'booking_date'],\n",
       "      dtype='object')"
      ]
     },
     "execution_count": 35,
     "metadata": {},
     "output_type": "execute_result"
    }
   ],
   "source": [
    "'''Column Names\n",
    "rb.columns\n",
    "['booking_id', 'supplier', 'status', 'roundtrip_id', 'name',\n",
    "       'pickup_date', 'pickup_time', 'number_of_passenger', 'vehicle_type',\n",
    "       'total_price', 'total_comission', 'total_driver', 'special_notes',\n",
    "       'city_of_departure', 'booking_departure', 'booking_destination',\n",
    "       'route_type', 'route', 'address', 'hotel', 'flight_number',\n",
    "       'last_update_date', 'booking_date', 'rating_text', 'country',\n",
    "       'rating_score', 'rating_date', 'vehicle_category', 'in_or_outbound',\n",
    "       'airport', 'neighborhood', 'days_in_advance', 'day_in_advance_groups',\n",
    "       'has_been_updated', 'address_lat', 'address_loc']\n",
    "\n",
    "book.columns\n",
    "['status', 'supplier', 'booking_id', 'roundtrip_id', 'name',\n",
    "       'pickup_date', 'pickup_time', 'number_of_passenger', 'vehicle_type',\n",
    "       'route_type', 'route', 'total_price', 'total_comission', 'total_driver',\n",
    "       'special_notes', 'city_of_departure', 'address', 'hotel',\n",
    "       'flight_number', 'last_update_date', 'booking_date']\n",
    "'''"
   ]
  },
  {
   "cell_type": "code",
   "execution_count": 30,
   "id": "a5e61546",
   "metadata": {},
   "outputs": [
    {
     "name": "stdout",
     "output_type": "stream",
     "text": [
      "            rating_score                                   \n",
      "                   count      mean    sum min max       std\n",
      "pickup_time                                                \n",
      "00                    78  4.192308    327   1   5  1.520916\n",
      "01                    28  4.071429    114   1   5  1.537881\n",
      "02                    48  4.541667    218   1   5  1.236989\n",
      "03                   135  4.600000    621   1   5  1.016285\n",
      "04                   163  4.674847    762   1   5  0.895003\n",
      "05                   200  4.755000    951   1   5  0.773282\n",
      "06                   209  4.708134    984   1   5  0.835499\n",
      "07                   358  4.751397   1701   1   5  0.775815\n",
      "08                   394  4.690355   1848   1   5  0.853407\n",
      "09                   368  4.682065   1723   1   5  0.912824\n",
      "10                   344  4.723837   1625   1   5  0.783884\n",
      "11                   514  4.764591   2449   1   5  0.757697\n",
      "12                  1519  4.765635   7239   1   5  0.671540\n",
      "13                  2370  4.682700  11098   1   5  0.810284\n",
      "14                  2255  4.667406  10525   1   5  0.840035\n",
      "15                  2405  4.644491  11170   1   5  0.885039\n",
      "16                  1679  4.624777   7765   1   5  0.901465\n",
      "17                  1855  4.641509   8610   1   5  0.868545\n",
      "18                  1852  4.693305   8692   1   5  0.828907\n",
      "19                  1231  4.700244   5786   1   5  0.793464\n",
      "20                   686  4.650146   3190   1   5  0.877983\n",
      "21                   712  4.672753   3327   1   5  0.837543\n",
      "22                   593  4.642496   2753   1   5  0.879774\n",
      "23                   127  4.590551    583   1   5  0.986853\n"
     ]
    },
    {
     "data": {
      "text/plain": [
       "<Axes: xlabel='pickup_time', ylabel='mean'>"
      ]
     },
     "execution_count": 30,
     "metadata": {},
     "output_type": "execute_result"
    },
    {
     "data": {
      "image/png": "[encoded data removed]",
      "text/plain": [
       "<Figure size 640x480 with 1 Axes>"
      ]
     },
     "metadata": {},
     "output_type": "display_data"
    }
   ],
   "source": [
    "#Ratings per Time of day.\n",
    "rb['pickup_time'].apply(lambda x: str(x).split(':')[0]).value_counts()\n",
    "\n",
    "group=rb.groupby(rb['pickup_time'].apply(lambda x: str(x).split(':')[0]))\n",
    "g1=group.agg({'rating_score':['count', 'mean','sum', 'min', 'max', 'std']})\n",
    "print(g1)\n",
    "g1.columns= g1.columns.droplevel()\n",
    "\n",
    "sns.barplot(data=g1, x='pickup_time', y='mean')\n"
   ]
  },
  {
   "cell_type": "code",
   "execution_count": 17,
   "id": "f2d69a77",
   "metadata": {},
   "outputs": [
    {
     "data": {
      "text/plain": [
       "0        21:00\n",
       "1        22:35\n",
       "2        13:50\n",
       "3        18:30\n",
       "4        03:00\n",
       "         ...  \n",
       "20118    04:00\n",
       "20119    16:00\n",
       "20120    19:00\n",
       "20121    17:10\n",
       "20122    18:55\n",
       "Name: pickup_time, Length: 20123, dtype: object"
      ]
     },
     "execution_count": 17,
     "metadata": {},
     "output_type": "execute_result"
    }
   ],
   "source": [
    "rb['pickup_time']"
   ]
  }
 ],
 "metadata": {
  "kernelspec": {
   "display_name": "Python 3 (ipykernel)",
   "language": "python",
   "name": "python3"
  },
  "language_info": {
   "codemirror_mode": {
    "name": "ipython",
    "version": 3
   },
   "file_extension": ".py",
   "mimetype": "text/x-python",
   "name": "python",
   "nbconvert_exporter": "python",
   "pygments_lexer": "ipython3",
   "version": "3.11.7"
  }
 },
 "nbformat": 4,
 "nbformat_minor": 5
}

{
 "cells": [
  {
   "cell_type": "code",
   "execution_count": 3,
   "id": "a77bc89d-1c26-471b-8921-4cb6b6d9f17e",
   "metadata": {},
   "outputs": [],
   "source": [
    "import numpy as np\n",
    "import pandas as pd\n",
    "import pyarrow\n",
    "import seaborn as sns\n",
    "import matplotlib.pyplot as plt\n",
    "import datetime as dt\n",
    "\n",
    "pd.set_option('display.max_columns', 300)\n",
    "pd.set_option('display.max_rows',500)"
   ]
  },
  {
   "cell_type": "code",
   "execution_count": 4,
   "id": "6f39fd41",
   "metadata": {},
   "outputs": [],
   "source": [
    "#Load the data\n",
    "rated_bookings_file = './Datasets/rated_bookings_with_location.csv'\n",
    "rb=pd.read_csv(rated_bookings_file)\n",
    "\n",
    "#Convert to Datetimes\n",
    "rb['pickup_date'] = pd.to_datetime(rb['pickup_date'])\n",
    "rb['last_update_date'] = pd.to_datetime(rb['last_update_date'])\n",
    "rb['booking_date'] = pd.to_datetime(rb['booking_date'])\n",
    "rb['rating_date'] = pd.to_datetime(rb['rating_date'])\n",
    "\n",
    "#Load the bookings\n",
    "bookings_file = './Datasets/all_bookings2.0.csv'\n",
    "book=pd.read_csv(bookings_file)\n"
   ]
  },
  {
   "cell_type": "code",
   "execution_count": 78,
   "id": "d4c08e41",
   "metadata": {},
   "outputs": [
    {
     "data": {
      "text/plain": [
       "\"Column Names\\nrb.columns\\n['booking_id', 'supplier', 'status', 'roundtrip_id', 'name',\\n       'pickup_date', 'pickup_time', 'number_of_passenger', 'vehicle_type',\\n       'total_price', 'total_comission', 'total_driver', 'special_notes',\\n       'city_of_departure', 'booking_departure', 'booking_destination',\\n       'route_type', 'route', 'address', 'hotel', 'flight_number',\\n       'last_update_date', 'booking_date', 'rating_text', 'country',\\n       'rating_score', 'rating_date', 'vehicle_category', 'in_or_outbound',\\n       'airport', 'neighborhood', 'days_in_advance', 'day_in_advance_groups',\\n       'has_been_updated', 'address_lat', 'address_loc']\\n\\nbook.columns\\n['status', 'supplier', 'booking_id', 'roundtrip_id', 'name',\\n       'pickup_date', 'pickup_time', 'number_of_passenger', 'vehicle_type',\\n       'route_type', 'route', 'total_price', 'total_comission', 'total_driver',\\n       'special_notes', 'city_of_departure', 'address', 'hotel',\\n       'flight_number', 'last_update_date', 'booking_date']\\n\""
      ]
     },
     "execution_count": 78,
     "metadata": {},
     "output_type": "execute_result"
    }
   ],
   "source": [
    "'''Column Names\n",
    "rb.columns\n",
    "['booking_id', 'supplier', 'status', 'roundtrip_id', 'name',\n",
    "       'pickup_date', 'pickup_time', 'number_of_passenger', 'vehicle_type',\n",
    "       'total_price', 'total_comission', 'total_driver', 'special_notes',\n",
    "       'city_of_departure', 'booking_departure', 'booking_destination',\n",
    "       'route_type', 'route', 'address', 'hotel', 'flight_number',\n",
    "       'last_update_date', 'booking_date', 'rating_text', 'country',\n",
    "       'rating_score', 'rating_date', 'vehicle_category', 'in_or_outbound',\n",
    "       'airport', 'neighborhood', 'days_in_advance', 'day_in_advance_groups',\n",
    "       'has_been_updated', 'address_lat', 'address_loc']\n",
    "\n",
    "book.columns\n",
    "['status', 'supplier', 'booking_id', 'roundtrip_id', 'name',\n",
    "       'pickup_date', 'pickup_time', 'number_of_passenger', 'vehicle_type',\n",
    "       'route_type', 'route', 'total_price', 'total_comission', 'total_driver',\n",
    "       'special_notes', 'city_of_departure', 'address', 'hotel',\n",
    "       'flight_number', 'last_update_date', 'booking_date']\n",
    "'''"
   ]
  },
  {
   "cell_type": "code",
   "execution_count": null,
   "id": "3b5ca345",
   "metadata": {},
   "outputs": [],
   "source": [
    "sns.catplot(rb, x='rating_score', kind='count')"
   ]
  },
  {
   "cell_type": "code",
   "execution_count": null,
   "id": "c487788e",
   "metadata": {},
   "outputs": [],
   "source": [
    "group=rb.groupby(rb['pickup_date'].dt.year)\n",
    "g1=group.agg({'rating_score':['count', 'mean','sum', 'min', 'max', 'std']})\n",
    "#g1['rating_score', 'sum']/g1['rating_score', 'count']\n",
    "print(type(g1))\n",
    "g1.columns= g1.columns.droplevel()\n",
    "\n",
    "sns.relplot(data=g1, x='pickup_date', y='mean', kind=\"line\")\n"
   ]
  },
  {
   "cell_type": "code",
   "execution_count": null,
   "id": "607b0af2",
   "metadata": {},
   "outputs": [],
   "source": [
    "#-------------------\n",
    "# Ratings Over Time\n",
    "#___________________\n",
    "\n",
    "#Data by year\n",
    "group1=rb.groupby(rb['pickup_date'].dt.year)\n",
    "g1=group1.agg({'rating_score':['count', 'mean','sum', 'min', 'max', 'std']})\n",
    "#g1['rating_score', 'sum']/g1['rating_score', 'count']\n",
    "print(type(g1))\n",
    "g1.columns= g1.columns.droplevel()\n",
    "g1.reset_index()\n",
    "g1=g1[(g1['count']>=10)]\n",
    "\n",
    "ax=sns.lineplot(data=g1, x='pickup_date', y='mean', color='#808080', linewidth=10, alpha=0.5, marker='*', markersize=18)\n",
    "\n",
    "#Data by year and months\n",
    "import datetime as dt\n",
    "group2=rb.groupby([rb['pickup_date'].dt.year,rb['pickup_date'].dt.month])\n",
    "g2=group2.agg({'rating_score':['count', 'mean','sum', 'min', 'max', 'std']})\n",
    "g2.index.names=['year', 'month']\n",
    "g2.columns= g2.columns.droplevel()\n",
    "g2=g2.reset_index()\n",
    "#converting numeric months to 3 letter months\n",
    "g2['month']=g2['month'].apply(lambda x: dt.datetime.strptime(str(x),\"%m\").strftime(\"%b\"))\n",
    "#filtering out months with less than 10 values\n",
    "g2=g2[(g2['count']>=10)]\n",
    "\n",
    "#order for the hue\n",
    "ordered_months=list(range(1,13))\n",
    "ordered_month=map(lambda x: dt.datetime.strptime(str(x),\"%m\").strftime(\"%b\") ,ordered_months)\n",
    "\n",
    "sns.set(rc={'figure.figsize':(11.7,8.27)})\n",
    "\n",
    "ax= sns.lineplot(data=g2, x='year', y='mean', hue='month', hue_order=ordered_month, marker='o', palette=sns.color_palette(\"viridis\", n_colors=12)) #'Paired'\n",
    "\n",
    "ax.set(xticks=g2['year'])\n",
    "ax.set(yticks=np.arange(3.9, 5.1, .1))\n",
    "plt.title('Customer Ratings over the time')\n",
    "plt.legend(title='Month')\n",
    "ax.set(xlabel='Year', ylabel='Rating (Stars)')\n",
    "\n",
    "plt.show()"
   ]
  },
  {
   "cell_type": "code",
   "execution_count": null,
   "id": "1496f71d",
   "metadata": {},
   "outputs": [],
   "source": [
    "#Ratings by type of Vehicle\n",
    "\n",
    "def add_margin(ax,x=0.05,y=0.05):\n",
    "    # This will, by default, add 5% to the x and y margins. You \n",
    "    # can customise this using the x and y arguments when you call it.\n",
    "    xlim = ax.get_xlim()\n",
    "    ylim = ax.get_ylim()\n",
    "    xmargin = (xlim[1]-xlim[0])*x\n",
    "    ymargin = (ylim[1]-ylim[0])*y\n",
    "    ax.set_xlim(xlim[0]-xmargin,xlim[1]+xmargin)\n",
    "    ax.set_ylim(ylim[0]-ymargin,ylim[1]+ymargin)\n",
    "\n",
    "group=rb.groupby(rb['vehicle_category'])\n",
    "g1=group.agg({'rating_score':['count', 'mean','sum', 'min', 'max', 'std']})\n",
    "g1.columns=g1.columns.droplevel(0)\n",
    "g1=g1.reset_index()\n",
    "g1=g1.sort_values(by=['mean'], ascending=False)\n",
    "\n",
    "ax= sns.barplot(data=g1, x='vehicle_category',y='mean', hue='vehicle_category', palette=sns.color_palette(\"Paired\", n_colors=5) )\n",
    "\n",
    "#Set datalabels\n",
    "sns.set(rc={'figure.figsize':(6,4.5)})\n",
    "for i in ax.containers:\n",
    "    ax.bar_label(i,fmt ='%.2f',fontsize=9)\n",
    "\n",
    "# Update the limits using set_xlim and set_ylim\n",
    "add_margin(ax,x=0.1,y=0.1) ### Call this after tsplot\n",
    "\n",
    "#\n",
    "plt.title('Rating per type of Vehicle')\n",
    "#plt.legend(title='Month')\n",
    "ax.set(xlabel='Vehicle Type', ylabel='Rating (Stars)')\n",
    "plt.show()"
   ]
  },
  {
   "cell_type": "code",
   "execution_count": null,
   "id": "ec8e9ceb",
   "metadata": {},
   "outputs": [],
   "source": [
    "#Lat's see a distribution\n",
    "sns.displot(rb['rating_score'])\n",
    "\n",
    "\n",
    "#Meeeeeh!!"
   ]
  },
  {
   "cell_type": "code",
   "execution_count": null,
   "id": "a01833b0",
   "metadata": {},
   "outputs": [],
   "source": [
    "#Plot Likert\n",
    "#!pip install plot-likert\n",
    "#!python3.11 -m pip install --upgrade pip\n",
    "import plot_likert\n",
    "plot_likert.scales.agree\n",
    "ratings={1:'Terrible',\n",
    "         2:'Bad',\n",
    "         3:'Whatever!',\n",
    "         4:'Not bad at all',\n",
    "         5:'Excellent'}\n",
    "r=[1,2,3,4,5]\n",
    "\n",
    "purpose_pd=pd.DataFrame({})\n",
    "purpose_pd['Would you recommend us to a friend?']=rb['rating_score']\n",
    "\n",
    "ax=plot_likert.plot_likert(purpose_pd['Would you recommend us to a friend?'], ratings , plot_percentage=True,bar_labels=True, bar_labels_color=\"snow\", figsize=(10,3));\n",
    "#ax.xaxis.set_label_text('% of Ratings');\n",
    "plt.title('% of Customer Ratings')\n",
    "plt.legend(title='Number of Stars')\n",
    "#ax.set(xlabel='% of Ratings', ylabel='Would you recommend to a friend?')\n",
    "\n",
    "#ax.figure.set_size_inches(12, 2)\n"
   ]
  },
  {
   "cell_type": "code",
   "execution_count": null,
   "id": "6c2fac40",
   "metadata": {},
   "outputs": [],
   "source": [
    "#Boxplot\n",
    "rb.boxplot(by = 'vehicle_category', column = 'rating_score')\n"
   ]
  },
  {
   "cell_type": "code",
   "execution_count": 296,
   "id": "a5e61546",
   "metadata": {},
   "outputs": [
    {
     "data": {
      "image/png": "[encoded data removed]",
      "text/plain": [
       "<Figure size 1000x800 with 2 Axes>"
      ]
     },
     "metadata": {},
     "output_type": "display_data"
    }
   ],
   "source": [
    "#Ratings per Time of day.\n",
    "\n",
    "f = plt.figure(figsize=(10,8))\n",
    "gs = f.add_gridspec(2,1)\n",
    "\n",
    "#Top Chart\n",
    "#-----------------------\n",
    "with sns.axes_style('white'):\n",
    "    ax=f.add_subplot(gs[0,0])\n",
    "#-----------------------\n",
    "    def add_margin(ax,x=0.05,y=0.05):\n",
    "        # This will, by default, add 5% to the x and y margins. You \n",
    "        # can customise this using the x and y arguments when you call it.\n",
    "        xlim = ax.get_xlim()\n",
    "        ylim = ax.get_ylim()\n",
    "        xmargin = (xlim[1]-xlim[0])*x\n",
    "        ymargin = (ylim[1]-ylim[0])*y\n",
    "        ax.set_xlim(xlim[0]-xmargin,xlim[1]+xmargin)\n",
    "        ax.set_ylim(ylim[0]-ymargin,ylim[1]+ymargin)\n",
    "\n",
    "\n",
    "    rb['pickup_time'].apply(lambda x: str(x).split(':')[0]).value_counts()\n",
    "\n",
    "    group=rb[ rb['pickup_date'].dt.year>=2022].groupby(rb['pickup_time'].apply(lambda x: int(str(x).split(':')[0])))\n",
    "    g1=group.agg({'rating_score':['count', 'mean','sum', 'min', 'max', 'std']})\n",
    "    #print(g1)\n",
    "    g1.columns= g1.columns.droplevel()\n",
    "\n",
    "    #sns.set_theme(style='whitegrid')\n",
    "    sns.lineplot(data=g1,x='pickup_time', y='std', color='red')\n",
    "    sns.barplot(data=g1, x='pickup_time', hue='pickup_time', legend='auto', y='mean', palette=sns.color_palette('Set3', n_colors=24))\n",
    "\n",
    "    #Set datalabels\n",
    "    #sns.set(rc={'figure.figsize':(10,5.5)})\n",
    "    for i in ax.containers:\n",
    "        ax.bar_label(i,fmt ='%.2f',fontsize=8)\n",
    "    plt.title('Average Rating in Hour of the Day (24h)',pad=20)\n",
    "    plt.legend()\n",
    "    ax.set(xlabel='Hour of the Day (24h)', ylabel='Rating (Stars)')\n",
    "    # Update the limits using set_xlim and set_ylim\n",
    "    add_margin(ax,x=0.00,y=0.1) #Call this after tsplot\n",
    "\n",
    "    sns.despine(offset=0, trim=True)\n",
    "    sns.despine(left=True)\n",
    "\n",
    "    plt.legend([],[], frameon=False)\n",
    "    #plt.show()\n",
    "\n",
    "#Bottom Chart\n",
    "###-----------------------------------------\n",
    "with sns.axes_style('white'):\n",
    "    ax1=f.add_subplot(gs[1,0])\n",
    "#-----------------------\n",
    "    # Some additional preparations for the data.\n",
    "    # More simple Vehicle by Category\n",
    "    def func_case_vehicle(v):\n",
    "        if v in ['Limo 8', 'SUV Limo', 'Limo 7']:\n",
    "            return('Limo')\n",
    "        if v in ['Sprinter 12', 'Van', 'Minibús de 20 plazas', 'Furgoneta de 14 plazas', 'Furgoneta de 10 plazas','Monovolumen de 7 plazas']:\n",
    "            return('Van')\n",
    "        else:\n",
    "            return v\n",
    "\n",
    "    book['vehicle_category']=book['vehicle_type'].apply(func_case_vehicle)\n",
    "    #Convert to Datetimes\n",
    "    book['pickup_date'] = pd.to_datetime(book['pickup_date'])\n",
    "\n",
    "    #Make the data for the plot\n",
    "    group=book[(book['pickup_date'].dt.year>=2022)&(book['pickup_date'].dt.year<2024)].groupby([book['pickup_time'].apply(lambda x: int(str(x).split(':')[0])), book['pickup_date'].dt.year])\n",
    "    g1=group.agg({'booking_id':['count']})\n",
    "    g1.columns= g1.columns.droplevel(0)\n",
    "    g1=g1.reset_index()\n",
    "    #print(g1)\n",
    "    group2=g1.groupby([g1['pickup_time']], as_index=True)\n",
    "    g2=group2.agg({'count':['mean']})\n",
    "    g2.columns= g2.columns.droplevel(0)\n",
    "    g2=g2.reset_index()\n",
    "    sns.barplot(x=g2['pickup_time'],y=g2['mean'],hue=g2['pickup_time'] , palette=sns.color_palette('Set3', n_colors=24))\n",
    "    plt.xticks(g2['pickup_time'])\n",
    "    #plt.title('Average Bookings in each Hour of the Day (24h)')\n",
    "    #plt.legend(title='Month')\n",
    "    ax1.set(xlabel='Hour of the Day (24h)', ylabel='Avg. Bookings')\n",
    "    # Update the limits using set_xlim and set_ylim\n",
    "    add_margin(ax1,x=0.00,y=0.1) #Call this after tsplot\n",
    "    ax1.axes.get_yaxis().set_visible(True)\n",
    "    sns.despine(offset=5, trim=True)\n",
    "    sns.despine(left=True)\n",
    "    plt.legend([],[], frameon=False)\n",
    "    #plt.show()\n",
    "# Plot the 2 charts together.\n",
    "f.tight_layout()"
   ]
  },
  {
   "cell_type": "code",
   "execution_count": null,
   "id": "67f391a6",
   "metadata": {},
   "outputs": [],
   "source": [
    "#Inbound/Outbound - 'in_or_outbound'\n",
    "#Airport - 'airport'\n",
    "# # Of bookings\n",
    "# Avg. Ratings\n",
    "# Avg. Ratings with 1 or 2 stars.\n",
    "\n",
    "\n",
    "\n",
    "\n"
   ]
  },
  {
   "cell_type": "code",
   "execution_count": 6,
   "metadata": {},
   "outputs": [],
   "source": [
    "# More simple Vehicle by Category\n",
    "\n",
    "def func_case_vehicle(v):\n",
    "    if v in ['Limo 8', 'SUV Limo', 'Limo 7']:\n",
    "        return('Limo')\n",
    "    if v in ['Sprinter 12', 'Van', 'Minibús de 20 plazas', 'Furgoneta de 14 plazas', 'Furgoneta de 10 plazas','Monovolumen de 7 plazas']:\n",
    "        return('Van')\n",
    "    else:\n",
    "        return v\n",
    "\n",
    "book['vehicle_category']=book['vehicle_type'].apply(func_case_vehicle)\n",
    "\n",
    "#Convert to Datetimes\n",
    "book['pickup_date'] = pd.to_datetime(book['pickup_date'])\n"
   ]
  },
  {
   "cell_type": "code",
   "execution_count": 80,
   "metadata": {},
   "outputs": [],
   "source": [
    "#Number of jobs "
   ]
  },
  {
   "cell_type": "code",
   "execution_count": null,
   "id": "a069f1e0",
   "metadata": {},
   "outputs": [],
   "source": [
    "#By supplier"
   ]
  },
  {
   "cell_type": "code",
   "execution_count": null,
   "id": "25d91bfb",
   "metadata": {},
   "outputs": [],
   "source": [
    "#Time ahead of the reservation"
   ]
  },
  {
   "cell_type": "code",
   "execution_count": null,
   "id": "ddff7c8d",
   "metadata": {},
   "outputs": [],
   "source": [
    "#Reservations that had updates or not."
   ]
  },
  {
   "cell_type": "code",
   "execution_count": null,
   "id": "9c1225e0",
   "metadata": {},
   "outputs": [],
   "source": [
    "#Country"
   ]
  },
  {
   "cell_type": "code",
   "execution_count": null,
   "id": "46fef4b0",
   "metadata": {},
   "outputs": [],
   "source": [
    "#Address"
   ]
  },
  {
   "cell_type": "code",
   "execution_count": 81,
   "id": "f2d69a77",
   "metadata": {},
   "outputs": [
    {
     "data": {
      "text/plain": [
       "0        21:00\n",
       "1        22:35\n",
       "2        13:50\n",
       "3        18:30\n",
       "4        03:00\n",
       "         ...  \n",
       "20118    04:00\n",
       "20119    16:00\n",
       "20120    19:00\n",
       "20121    17:10\n",
       "20122    18:55\n",
       "Name: pickup_time, Length: 20123, dtype: object"
      ]
     },
     "execution_count": 81,
     "metadata": {},
     "output_type": "execute_result"
    }
   ],
   "source": [
    "rb['pickup_time']"
   ]
  }
 ],
 "metadata": {
  "kernelspec": {
   "display_name": "Python 3 (ipykernel)",
   "language": "python",
   "name": "python3"
  },
  "language_info": {
   "codemirror_mode": {
    "name": "ipython",
    "version": 3
   },
   "file_extension": ".py",
   "mimetype": "text/x-python",
   "name": "python",
   "nbconvert_exporter": "python",
   "pygments_lexer": "ipython3",
   "version": "3.11.7"
  }
 },
 "nbformat": 4,
 "nbformat_minor": 5
}

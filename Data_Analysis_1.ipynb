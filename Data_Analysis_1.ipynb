{
 "cells": [
  {
   "cell_type": "code",
   "execution_count": 21,
   "id": "5a6de16e-b891-407a-9d34-137c40fc8d3f",
   "metadata": {},
   "outputs": [],
   "source": [
    "import numpy as np\n",
    "import pandas as pd\n",
    "import pyarrow\n",
    "import seaborn as sns\n",
    "import matplotlib.pyplot as plt\n",
    "\n",
    "pd.set_option('display.max_columns', 300)\n",
    "pd.set_option('display.max_rows',500)"
   ]
  },
  {
   "cell_type": "code",
   "execution_count": 22,
   "id": "c91a22d9-3458-4c88-8778-9ff668d5fcc7",
   "metadata": {},
   "outputs": [],
   "source": [
    "rated_bookings_file = './Datasets/rated_bookings.csv'\n",
    "rb=pd.read_csv(rated_bookings_file)"
   ]
  },
  {
   "cell_type": "code",
   "execution_count": 23,
   "id": "dfabc03e",
   "metadata": {},
   "outputs": [
    {
     "data": {
      "text/plain": [
       "booking_id              object\n",
       "supplier                object\n",
       "status                  object\n",
       "roundtrip_id            object\n",
       "name                    object\n",
       "pickup_date             object\n",
       "pickup_time             object\n",
       "number_of_passenger      int64\n",
       "vehicle_type            object\n",
       "total_price            float64\n",
       "total_comission        float64\n",
       "total_driver           float64\n",
       "special_notes           object\n",
       "city_of_departure       object\n",
       "booking_departure       object\n",
       "booking_destination     object\n",
       "route_type              object\n",
       "route                   object\n",
       "address                 object\n",
       "hotel                   object\n",
       "flight_number           object\n",
       "last_update_date        object\n",
       "booking_date            object\n",
       "rating_text             object\n",
       "country                 object\n",
       "rating_score             int64\n",
       "rating_date             object\n",
       "dtype: object"
      ]
     },
     "execution_count": 23,
     "metadata": {},
     "output_type": "execute_result"
    }
   ],
   "source": [
    "rb.dtypes"
   ]
  },
  {
   "cell_type": "code",
   "execution_count": 24,
   "id": "ea711f82",
   "metadata": {},
   "outputs": [
    {
     "data": {
      "text/plain": [
       "<seaborn.axisgrid.FacetGrid at 0x126c43d10>"
      ]
     },
     "execution_count": 24,
     "metadata": {},
     "output_type": "execute_result"
    },
    {
     "data": {
      "image/png": "[encoded data removed]",
      "text/plain": [
       "<Figure size 511.111x500 with 1 Axes>"
      ]
     },
     "metadata": {},
     "output_type": "display_data"
    }
   ],
   "source": [
    "sns.catplot(rb, x='rating_score', kind='count')"
   ]
  },
  {
   "cell_type": "code",
   "execution_count": 25,
   "id": "65674941",
   "metadata": {},
   "outputs": [
    {
     "ename": "NameError",
     "evalue": "name 'year' is not defined",
     "output_type": "error",
     "traceback": [
      "\u001b[0;31m---------------------------------------------------------------------------\u001b[0m",
      "\u001b[0;31mNameError\u001b[0m                                 Traceback (most recent call last)",
      "Cell \u001b[0;32mIn[25], line 1\u001b[0m\n\u001b[0;32m----> 1\u001b[0m group\u001b[38;5;241m=\u001b[39mrb\u001b[38;5;241m.\u001b[39mgroupby(\u001b[43myear\u001b[49m(rb[\u001b[38;5;124m'\u001b[39m\u001b[38;5;124mpickup_date_booking\u001b[39m\u001b[38;5;124m'\u001b[39m]))\n",
      "\u001b[0;31mNameError\u001b[0m: name 'year' is not defined"
     ]
    }
   ],
   "source": [
    "group=rb.groupby(year(rb['pickup_date_booking']))"
   ]
  },
  {
   "cell_type": "code",
   "execution_count": null,
   "id": "c19aded1",
   "metadata": {},
   "outputs": [],
   "source": []
  }
 ],
 "metadata": {
  "kernelspec": {
   "display_name": "Python 3 (ipykernel)",
   "language": "python",
   "name": "python3"
  },
  "language_info": {
   "codemirror_mode": {
    "name": "ipython",
    "version": 3
   },
   "file_extension": ".py",
   "mimetype": "text/x-python",
   "name": "python",
   "nbconvert_exporter": "python",
   "pygments_lexer": "ipython3",
   "version": "3.11.7"
  }
 },
 "nbformat": 4,
 "nbformat_minor": 5
}

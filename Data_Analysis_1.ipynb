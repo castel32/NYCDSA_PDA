{
 "cells": [
  {
   "cell_type": "code",
   "execution_count": 2,
   "id": "5a6de16e-b891-407a-9d34-137c40fc8d3f",
   "metadata": {},
   "outputs": [],
   "source": [
    "import numpy as np\n",
    "import pandas as pd\n",
    "import pyarrow\n",
    "import random\n",
    "\n",
    "pd.set_option('display.max_columns', 300)\n",
    "pd.set_option('display.max_rows',500)\n",
    "\n",
    "\n",
    "rated_bookings_file='./Datasets/rated_bookings.csv'"
   ]
  },
  {
   "cell_type": "code",
   "execution_count": 3,
   "id": "c91a22d9-3458-4c88-8778-9ff668d5fcc7",
   "metadata": {},
   "outputs": [],
   "source": [
    "# rb for Rated Bookings for short typing.\n",
    "rb=pd.read_csv(rated_bookings_file)"
   ]
  }
 ],
 "metadata": {
  "kernelspec": {
   "display_name": "Python 3 (ipykernel)",
   "language": "python",
   "name": "python3"
  },
  "language_info": {
   "codemirror_mode": {
    "name": "ipython",
    "version": 3
   },
   "file_extension": ".py",
   "mimetype": "text/x-python",
   "name": "python",
   "nbconvert_exporter": "python",
   "pygments_lexer": "ipython3",
   "version": "3.11.7"
  }
 },
 "nbformat": 4,
 "nbformat_minor": 5
}
